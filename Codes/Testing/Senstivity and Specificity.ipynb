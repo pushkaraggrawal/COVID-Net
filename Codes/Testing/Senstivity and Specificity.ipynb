{
 "cells": [
  {
   "cell_type": "code",
   "execution_count": 27,
   "metadata": {},
   "outputs": [],
   "source": [
    "from keras.models import load_model\n",
    "import cv2\n",
    "from keras.preprocessing import image\n",
    "from keras.applications.vgg19 import preprocess_input, decode_predictions\n",
    "import numpy as np\n",
    "\n",
    "model = load_model(r\"E:\\Saved Models\\VGG 19\\VGG19AS3.h5\")"
   ]
  },
  {
   "cell_type": "code",
   "execution_count": 29,
   "metadata": {},
   "outputs": [
    {
     "name": "stdout",
     "output_type": "stream",
     "text": [
      "Sensitivity is  0.78\n",
      "Specificity is  0.9866666666666667\n"
     ]
    }
   ],
   "source": [
    "tp=tn=fp=fn=0\n",
    "i=j=k=l=0\n",
    "#imgsP are true positive -> COVID positives list of strings\n",
    "for i in range(132):\n",
    "    img_path = r\"C:\\Users\\AMAN VERMA\\Desktop\\Machine Learning\\COVID Positive\\X (\"+ str(i+1) + \").jpeg\"\n",
    "    img = image.load_img(img_path, target_size=(224, 224))  #change to 224 , 224 , 3 if doesn't work\n",
    "    img_data = image.img_to_array(img)\n",
    "    img_data = np.expand_dims(img_data, axis=0)\n",
    "    img_data = preprocess_input(img_data)\n",
    "    if(model.predict(img_data) == [[1.]]):\n",
    "        tp = tp + 1\n",
    "\n",
    "for j in range(138):\n",
    "    img_path = r\"C:\\Users\\AMAN VERMA\\Desktop\\Machine Learning\\COVID Positive\\Y (\"+ str(j+1) + \").jpg\"\n",
    "    img = image.load_img(img_path, target_size=(224, 224))  #change to 224 , 224 , 3 if doesn't work\n",
    "    img_data = image.img_to_array(img)\n",
    "    img_data = np.expand_dims(img_data, axis=0)\n",
    "    img_data = preprocess_input(img_data)\n",
    "    if(model.predict(img_data) == [[1.]]):\n",
    "        tp = tp + 1\n",
    "        \n",
    "for k in range(30):\n",
    "    img_path = r\"C:\\Users\\AMAN VERMA\\Desktop\\Machine Learning\\COVID Positive\\Z (\"+ str(k+1) + \").png\"\n",
    "    img = image.load_img(img_path, target_size=(224, 224))  #change to 224 , 224 , 3 if doesn't work\n",
    "    img_data = image.img_to_array(img)\n",
    "    img_data = np.expand_dims(img_data, axis=0)\n",
    "    img_data = preprocess_input(img_data)\n",
    "    if(model.predict(img_data) == [[1.]]):\n",
    "        tp = tp + 1\n",
    "        \n",
    "fn = 300-tp\n",
    "\n",
    "#imgsN are true negatives -> COVID negatives list of strings\n",
    "for l in range(300):\n",
    "    img_path = r\"C:\\Users\\AMAN VERMA\\Desktop\\Machine Learning\\Negative\\X (\" +str(l+1) + \").png\"\n",
    "    img = image.load_img(img_path, target_size=(224, 224))  #change to 224 , 224 , 3 if doesn't work\n",
    "    img_data = image.img_to_array(img)\n",
    "    img_data = np.expand_dims(img_data, axis=0)\n",
    "    img_data = preprocess_input(img_data)\n",
    "    if(model.predict(img_data) == [[0.]]):\n",
    "        tn = tn + 1\n",
    "\n",
    "fp=300-tn\n",
    "\n",
    "sn= tp/(tp+fn)\n",
    "sp= tn/(tn+fp)\n",
    "print(\"Sensitivity is \", sp)\n",
    "print(\"Specificity is \", sn)"
   ]
  },
  {
   "cell_type": "code",
   "execution_count": null,
   "metadata": {},
   "outputs": [],
   "source": [
    "tp=tn=fp=fn=0\n",
    "i=j=k=l=0\n",
    "img_path = r\"E:\\COVID Positive\\COVID Positive.jpeg\"\n",
    "img = image.load_img(img_path, target_size=(224, 224))  #change to 224 , 224 , 3 if doesn't work\n",
    "img_data = image.img_to_array(img)\n",
    "img_data = np.expand_dims(img_data, axis=0)\n",
    "img_data = preprocess_input(img_data)\n",
    "if(model.predict(img_data) == [[1.]]):\n",
    "    tp = tp + 1\n",
    "fn = 300-tp\n",
    "\n",
    "img_path = r\"E:\\COVID Negative\\COVID Negative.jpeg\"\n",
    "img = image.load_img(img_path, target_size=(224, 224))  #change to 224 , 224 , 3 if doesn't work\n",
    "img_data = image.img_to_array(img)\n",
    "img_data = np.expand_dims(img_data, axis=0)\n",
    "img_data = preprocess_input(img_data)\n",
    "if(model.predict(img_data) == [[0.]]):\n",
    "    tn = tn + 1\n",
    "fp=300-tn"
   ]
  },
  {
   "cell_type": "code",
   "execution_count": null,
   "metadata": {},
   "outputs": [],
   "source": [
    "sn= tp/(tp+fn)\n",
    "sp= tn/(tn+fp)\n",
    "print(\"Sensitivity is \", sp)\n",
    "print(\"Specificity is \", sn)"
   ]
  }
 ],
 "metadata": {
  "kernelspec": {
   "display_name": "Python 3",
   "language": "python",
   "name": "python3"
  },
  "language_info": {
   "codemirror_mode": {
    "name": "ipython",
    "version": 3
   },
   "file_extension": ".py",
   "mimetype": "text/x-python",
   "name": "python",
   "nbconvert_exporter": "python",
   "pygments_lexer": "ipython3",
   "version": "3.7.7"
  }
 },
 "nbformat": 4,
 "nbformat_minor": 4
}
