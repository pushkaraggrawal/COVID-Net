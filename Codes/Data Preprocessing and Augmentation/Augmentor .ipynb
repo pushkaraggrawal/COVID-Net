{
 "cells": [
  {
   "cell_type": "code",
   "execution_count": 10,
   "metadata": {},
   "outputs": [
    {
     "name": "stdout",
     "output_type": "stream",
     "text": [
      "Initialised with 235 image(s) found.\n",
      "Output directory set to E:\\Data for Segmentation(Covid Positive)\\Images\\output."
     ]
    }
   ],
   "source": [
    "import Augmentor\n",
    "\n"
   ]
  },
  {
   "cell_type": "code",
   "execution_count": 11,
   "metadata": {},
   "outputs": [],
   "source": [
    "#AUGMENTATION\n",
    "p = Augmentor.Pipeline(r\"E:\\Data for Segmentation(Covid Positive)\\Images\")\n",
    "p.gaussian_distortion(1,5,5,1,'bell','auto')\n",
    "p.rotate(1,5,5)\n",
    "p.shear(1,5,5)\n",
    "p.crop_centre(1,0.9)"
   ]
  },
  {
   "cell_type": "code",
   "execution_count": null,
   "metadata": {},
   "outputs": [
    {
     "name": "stderr",
     "output_type": "stream",
     "text": [
      "Processing <PIL.Image.Image image mode=RGBA size=230x230 at 0x15696804B88>: 100%|██████████| 235/235 [00:31<00:00,  7.42 Samples/s]\n",
      "Processing <PIL.Image.Image image mode=RGB size=230x230 at 0x15696BE1CC8>:  96%|█████████▌| 1102/1150 [02:28<00:05,  8.02 Samples/s] "
     ]
    }
   ],
   "source": [
    "p.process()\n",
    "p.sample(1150)"
   ]
  },
  {
   "cell_type": "code",
   "execution_count": null,
   "metadata": {},
   "outputs": [],
   "source": []
  }
 ],
 "metadata": {
  "kernelspec": {
   "display_name": "Python 3",
   "language": "python",
   "name": "python3"
  },
  "language_info": {
   "codemirror_mode": {
    "name": "ipython",
    "version": 3
   },
   "file_extension": ".py",
   "mimetype": "text/x-python",
   "name": "python",
   "nbconvert_exporter": "python",
   "pygments_lexer": "ipython3",
   "version": "3.7.4"
  }
 },
 "nbformat": 4,
 "nbformat_minor": 4
}
