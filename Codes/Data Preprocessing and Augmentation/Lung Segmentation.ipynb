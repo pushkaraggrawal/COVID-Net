{
 "cells": [
  {
   "cell_type": "code",
   "execution_count": 1,
   "metadata": {},
   "outputs": [
    {
     "name": "stderr",
     "output_type": "stream",
     "text": [
      "Using TensorFlow backend.\n"
     ]
    }
   ],
   "source": [
    "import numpy as np\n",
    "import pandas as pd\n",
    "from keras.models import load_model\n",
    "from keras.preprocessing.image import ImageDataGenerator\n",
    "from skimage import morphology, io, color, exposure, img_as_float, transform\n",
    "from matplotlib import pyplot as plt"
   ]
  },
  {
   "cell_type": "code",
   "execution_count": 2,
   "metadata": {},
   "outputs": [],
   "source": [
    "def loadDataGeneral(df, path, im_shape):\n",
    "    X=[]\n",
    "    for i, item in df.iterrows():\n",
    "        img = img_as_float(io.imread(path + item[0]))\n",
    "        img = transform.resize(img, im_shape)\n",
    "        img = exposure.equalize_hist(img)\n",
    "        img = np.expand_dims(img, -1)\n",
    "        X.append(img)        \n",
    "    X = np.array(X)\n",
    "    X -= X.mean()\n",
    "    X /= X.std()\n",
    "\n",
    "    return X"
   ]
  },
  {
   "cell_type": "code",
   "execution_count": 3,
   "metadata": {},
   "outputs": [],
   "source": [
    "def remove_small_regions(img, size):\n",
    "    \"\"\"Morphologically removes small (less than size) connected regions of 0s or 1s.\"\"\"\n",
    "    img = morphology.remove_small_objects(img, size)\n",
    "    img = morphology.remove_small_holes(img, size)\n",
    "    return img"
   ]
  },
  {
   "cell_type": "code",
   "execution_count": 10,
   "metadata": {},
   "outputs": [
    {
     "name": "stderr",
     "output_type": "stream",
     "text": [
      "C:\\Users\\AMAN VERMA\\Anaconda3\\envs\\tensorflow\\lib\\site-packages\\ipykernel_launcher.py:45: UserWarning: Data2/res/0.jpg is a low contrast image\n",
      "Lossy conversion from float32 to uint8. Range [0, 1]. Convert image to uint8 prior to saving to suppress this warning.\n",
      "C:\\Users\\AMAN VERMA\\Anaconda3\\envs\\tensorflow\\lib\\site-packages\\ipykernel_launcher.py:45: UserWarning: Data2/res/1.jpg is a low contrast image\n",
      "Lossy conversion from float32 to uint8. Range [0, 1]. Convert image to uint8 prior to saving to suppress this warning.\n",
      "C:\\Users\\AMAN VERMA\\Anaconda3\\envs\\tensorflow\\lib\\site-packages\\ipykernel_launcher.py:45: UserWarning: Data2/res/2.jpg is a low contrast image\n",
      "Lossy conversion from float32 to uint8. Range [0, 1]. Convert image to uint8 prior to saving to suppress this warning.\n",
      "C:\\Users\\AMAN VERMA\\Anaconda3\\envs\\tensorflow\\lib\\site-packages\\ipykernel_launcher.py:45: UserWarning: Data2/res/3.jpg is a low contrast image\n",
      "Lossy conversion from float32 to uint8. Range [0, 1]. Convert image to uint8 prior to saving to suppress this warning.\n"
     ]
    },
    {
     "data": {
      "text/plain": [
       "<Figure size 720x720 with 0 Axes>"
      ]
     },
     "metadata": {},
     "output_type": "display_data"
    },
    {
     "data": {
      "image/png": "[encoded data removed]",
      "text/plain": [
       "<Figure size 432x288 with 1 Axes>"
      ]
     },
     "metadata": {
      "needs_background": "light"
     },
     "output_type": "display_data"
    }
   ],
   "source": [
    "if __name__ == '__main__':\n",
    "\n",
    "    # Path to csv-file. File should contain X-ray filenames as first column,\n",
    "    csv_path = 'idx2.csv'\n",
    "    # Path to the folder with images. Images will be read from path + path_from_csv\n",
    "    path = 'Data2/'\n",
    "\n",
    "    df = pd.read_csv(csv_path)\n",
    "    \n",
    "      # Load test data\n",
    "    im_shape = (256, 256)\n",
    "    X = loadDataGeneral(df, path, im_shape)\n",
    "\n",
    "    n_test = X.shape[0]\n",
    "    inp_shape = X[0].shape\n",
    "\n",
    "\n",
    "    # Load model\n",
    "    model_name = r\"C:\\Users\\AMAN VERMA\\Desktop\\Machine Learning\\PS 1\\Lung Segmentation\\trained_model.hdf5\"\n",
    "    UNet = load_model(model_name)\n",
    "\n",
    "    # For inference standard keras ImageGenerator can be used.\n",
    "    test_gen = ImageDataGenerator(rescale=1.)\n",
    "\n",
    "    prs = []\n",
    "    i = 0\n",
    "    plt.figure(figsize=(10, 10))\n",
    "    for xx in test_gen.flow(X, batch_size=1):\n",
    "        img = exposure.rescale_intensity(np.squeeze(xx), out_range=(0,1))\n",
    "        pred = UNet.predict(xx)[..., 0].reshape(inp_shape[:2])\n",
    "        \n",
    "        pr = pred > 0.5\n",
    "\n",
    "        pr = remove_small_regions(pr, 0.02 * np.prod(im_shape))\n",
    "       \n",
    "        A=pred\n",
    "        A[:,:]=0\n",
    "        \n",
    "        index = pred>0.2\n",
    "        \n",
    "        for c in range(256):   \n",
    "            for d in range(256):\n",
    "                A[c,d]= img[c,d]*index[c,d]\n",
    "        \n",
    "        io.imsave(\"Data2/res/\"+str(i)+\".jpg\",A)\n",
    "\n",
    "        i += 1\n",
    "        if i == n_test:\n",
    "            break\n",
    "\n",
    "\n",
    "    plt.tight_layout()\n",
    "    plt.savefig('results2.png')\n",
    "    plt.show()\n",
    "\n",
    "    A=pred\n",
    "    A[:,:]=0\n",
    "    x=X[3,:,:,0]\n",
    "    index = pred>0.2\n",
    "    \n",
    "    \n",
    "    for xx in range(256):   \n",
    "        for yy in range(256):\n",
    "            A[xx,yy]= x[xx,yy]*index[xx,yy]\n",
    "            \n",
    "    plt.imshow(A)"
   ]
  },
  {
   "cell_type": "code",
   "execution_count": null,
   "metadata": {},
   "outputs": [],
   "source": [
    "\"C:\\Users\\AMAN VERMA\\Desktop\\Machine Learning\\PS 1\\Lung Segmentation\\Data2\\1.jpeg.jpg\""
   ]
  }
 ],
 "metadata": {
  "kernelspec": {
   "display_name": "Python 3",
   "language": "python",
   "name": "python3"
  },
  "language_info": {
   "codemirror_mode": {
    "name": "ipython",
    "version": 3
   },
   "file_extension": ".py",
   "mimetype": "text/x-python",
   "name": "python",
   "nbconvert_exporter": "python",
   "pygments_lexer": "ipython3",
   "version": "3.7.7"
  }
 },
 "nbformat": 4,
 "nbformat_minor": 4
}
